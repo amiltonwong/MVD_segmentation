{
 "cells": [
  {
   "cell_type": "markdown",
   "metadata": {},
   "source": [
    "### 1: Dataset Summary & Exploration"
   ]
  },
  {
   "cell_type": "code",
   "execution_count": 1,
   "metadata": {
    "collapsed": true
   },
   "outputs": [],
   "source": [
    "import matplotlib.pyplot as plt\n",
    "import matplotlib.image as mpimg\n",
    "from PIL import Image\n",
    "import numpy as np\n",
    "import glob\n",
    "%matplotlib inline\n"
   ]
  },
  {
   "cell_type": "code",
   "execution_count": 2,
   "metadata": {
    "collapsed": true
   },
   "outputs": [],
   "source": [
    "# Setup for training images\n",
    "train_img_path = '/data2/vistas_dataset/training/images/'\n",
    "train_label_path = '/data2/vistas_dataset/training/labels/'\n",
    "\n",
    "# Setup for validation images\n",
    "val_img_path = '/data2/vistas_dataset/validation/images/'\n",
    "val_label_path = '/data2/vistas_dataset/validation/labels/'"
   ]
  },
  {
   "cell_type": "code",
   "execution_count": 3,
   "metadata": {
    "collapsed": false
   },
   "outputs": [],
   "source": [
    "train_img_names = glob.glob(train_img_path+'*.jpg')\n",
    "train_label_names = glob.glob(train_label_path+'*.png')"
   ]
  },
  {
   "cell_type": "code",
   "execution_count": 65,
   "metadata": {
    "collapsed": true
   },
   "outputs": [],
   "source": [
    "val_img_names = glob.glob(val_img_path+'*.jpg')\n",
    "val_label_names = glob.glob(val_label_path+'*.png')"
   ]
  },
  {
   "cell_type": "code",
   "execution_count": 6,
   "metadata": {
    "collapsed": false
   },
   "outputs": [
    {
     "data": {
      "text/plain": [
       "(18000, 18000)"
      ]
     },
     "execution_count": 6,
     "metadata": {},
     "output_type": "execute_result"
    }
   ],
   "source": [
    "len(train_img_names), len(train_label_names)\n"
   ]
  },
  {
   "cell_type": "code",
   "execution_count": 25,
   "metadata": {
    "collapsed": true
   },
   "outputs": [],
   "source": [
    "def open_image(fn): return np.array(Image.open(fn))\n",
    "\n",
    "#train_imgs = np.stack([open_image(fn) for fn in train_img_names])\n",
    "#train_labels = np.stack([open_image(fn) for fn in train_label_names])"
   ]
  },
  {
   "cell_type": "code",
   "execution_count": 8,
   "metadata": {
    "collapsed": true
   },
   "outputs": [],
   "source": [
    "dist_path = '/data2/vistas_dataset/training/images_43/'"
   ]
  },
  {
   "cell_type": "code",
   "execution_count": 14,
   "metadata": {
    "collapsed": false
   },
   "outputs": [
    {
     "data": {
      "text/plain": [
       "0"
      ]
     },
     "execution_count": 14,
     "metadata": {},
     "output_type": "execute_result"
    }
   ],
   "source": [
    "from subprocess import call\n",
    "call([\"ls\", \"-l\"])"
   ]
  },
  {
   "cell_type": "code",
   "execution_count": 18,
   "metadata": {
    "collapsed": false
   },
   "outputs": [
    {
     "data": {
      "text/plain": [
       "CompletedProcess(args=['ls', '-l'], returncode=0, stdout=b'total 20\\n-rw-r--r-- 1 root root   56 Jun 19 21:46 README.md\\n-rw-r--r-- 1 root root 5647 Jun 20 11:36 test_MVD.ipynb\\n-rw-r--r-- 1 root root 4580 May 27 21:39 utils2.py\\n')"
      ]
     },
     "execution_count": 18,
     "metadata": {},
     "output_type": "execute_result"
    }
   ],
   "source": [
    "import subprocess\n",
    "#subprocess.run([\"ls\", \"-l\"], stdout=subprocess.PIPE)"
   ]
  },
  {
   "cell_type": "code",
   "execution_count": 20,
   "metadata": {
    "collapsed": false
   },
   "outputs": [
    {
     "data": {
      "text/plain": [
       "CompletedProcess(args=['cp', '/data2/vistas_dataset/training/images/UVztnXiK7p3Pm1ez5X64Vg.jpg', '/data2/vistas_dataset/training/images_43/'], returncode=0)"
      ]
     },
     "execution_count": 20,
     "metadata": {},
     "output_type": "execute_result"
    }
   ],
   "source": [
    "subprocess.run([\"cp\", train_img_names[0], \"/data2/vistas_dataset/training/images_43/\"])"
   ]
  },
  {
   "cell_type": "code",
   "execution_count": 26,
   "metadata": {
    "collapsed": false
   },
   "outputs": [],
   "source": [
    "for fn in train_img_names:\n",
    "    img = open_image(fn)\n",
    "    ap = img.shape[1]/img.shape[0]\n",
    "    if (np.abs(ap-1.33))<0.1:\n",
    "        subprocess.run([\"cp\", fn, \"/data2/vistas_dataset/training/images_43/\"])"
   ]
  },
  {
   "cell_type": "code",
   "execution_count": 27,
   "metadata": {
    "collapsed": false
   },
   "outputs": [],
   "source": [
    "for fn in train_img_names:\n",
    "    img = open_image(fn)\n",
    "    ap = img.shape[1]/img.shape[0]\n",
    "    if (np.abs(ap-1.77))<0.1:\n",
    "        subprocess.run([\"cp\", fn, \"/data2/vistas_dataset/training/images_169/\"])"
   ]
  },
  {
   "cell_type": "code",
   "execution_count": 28,
   "metadata": {
    "collapsed": true
   },
   "outputs": [],
   "source": [
    "for fn in train_label_names:\n",
    "    img = open_image(fn)\n",
    "    ap = img.shape[1]/img.shape[0]\n",
    "    if (np.abs(ap-1.33))<0.1:\n",
    "        subprocess.run([\"cp\", fn, \"/data2/vistas_dataset/training/labels_43/\"])"
   ]
  },
  {
   "cell_type": "code",
   "execution_count": 29,
   "metadata": {
    "collapsed": true
   },
   "outputs": [],
   "source": [
    "for fn in train_label_names:\n",
    "    img = open_image(fn)\n",
    "    ap = img.shape[1]/img.shape[0]\n",
    "    if (np.abs(ap-1.77))<0.1:\n",
    "        subprocess.run([\"cp\", fn, \"/data2/vistas_dataset/training/labels_169/\"])"
   ]
  },
  {
   "cell_type": "code",
   "execution_count": 30,
   "metadata": {
    "collapsed": true
   },
   "outputs": [],
   "source": [
    "# randomly extract 3000 traing images and labels at 4:3 aspect ratio\n",
    "train_img_path = '/data2/vistas_dataset/training/images_43/'\n",
    "train_label_path = '/data2/vistas_dataset/training/labels_43/'\n",
    "train_img_names = glob.glob(train_img_path+'*.jpg')\n",
    "train_label_names = glob.glob(train_label_path+'*.png')"
   ]
  },
  {
   "cell_type": "code",
   "execution_count": 32,
   "metadata": {
    "collapsed": false
   },
   "outputs": [
    {
     "data": {
      "text/plain": [
       "(15349, 15349)"
      ]
     },
     "execution_count": 32,
     "metadata": {},
     "output_type": "execute_result"
    }
   ],
   "source": [
    "no_train_imgs = len(train_img_names)\n",
    "no_train_labels = len(train_label_names)\n",
    "no_train_imgs, no_train_labels"
   ]
  },
  {
   "cell_type": "code",
   "execution_count": 57,
   "metadata": {
    "collapsed": false
   },
   "outputs": [],
   "source": [
    "import random\n",
    "random.seed(10)\n",
    "my_randoms = random.sample(range(no_train_imgs), 3000)\n",
    "#print(my_randoms)"
   ]
  },
  {
   "cell_type": "code",
   "execution_count": 58,
   "metadata": {
    "collapsed": false
   },
   "outputs": [],
   "source": [
    "train_img_names_samples = [train_img_names[i] for i in my_randoms]"
   ]
  },
  {
   "cell_type": "code",
   "execution_count": 59,
   "metadata": {
    "collapsed": false
   },
   "outputs": [],
   "source": [
    "train_label_names_samples = [train_label_names[i] for i in my_randoms]"
   ]
  },
  {
   "cell_type": "code",
   "execution_count": 60,
   "metadata": {
    "collapsed": false
   },
   "outputs": [
    {
     "data": {
      "text/plain": [
       "['/data2/vistas_dataset/training/images_43/KfJR-fU5S9puDpxHGMUo1A.jpg',\n",
       " '/data2/vistas_dataset/training/images_43/zJDv6qIeyqzMob-yR5KBDw.jpg',\n",
       " '/data2/vistas_dataset/training/images_43/HUfUZMwzLJcGFXWmFyCpkA.jpg',\n",
       " '/data2/vistas_dataset/training/images_43/JNyu40lcpiEs2-lPPgcTXw.jpg',\n",
       " '/data2/vistas_dataset/training/images_43/19bnuT_jHRq7hSgEAlcQUA.jpg']"
      ]
     },
     "execution_count": 60,
     "metadata": {},
     "output_type": "execute_result"
    }
   ],
   "source": [
    "train_img_names_samples[:5]"
   ]
  },
  {
   "cell_type": "code",
   "execution_count": 61,
   "metadata": {
    "collapsed": false
   },
   "outputs": [
    {
     "data": {
      "text/plain": [
       "['/data2/vistas_dataset/training/labels_43/IWP747nHt3NfoV6ThBL9dg.png',\n",
       " '/data2/vistas_dataset/training/labels_43/PHjntQulc2zLYYlLlVX69g.png',\n",
       " '/data2/vistas_dataset/training/labels_43/fjdJSVKRhCaUwx7dYSUQRw.png',\n",
       " '/data2/vistas_dataset/training/labels_43/yBp0e9oLmxXXyfQBOGKo-g.png',\n",
       " '/data2/vistas_dataset/training/labels_43/CZwoyizOhr32_A240K5pWA.png']"
      ]
     },
     "execution_count": 61,
     "metadata": {},
     "output_type": "execute_result"
    }
   ],
   "source": [
    "train_label_names_samples[:5]"
   ]
  },
  {
   "cell_type": "code",
   "execution_count": 62,
   "metadata": {
    "collapsed": true
   },
   "outputs": [],
   "source": [
    "for fn in train_img_names_samples:\n",
    "    img = open_image(fn)\n",
    "    subprocess.run([\"cp\", fn, \"/data2/vistas_dataset/training/images_43_samples/\"])"
   ]
  },
  {
   "cell_type": "code",
   "execution_count": 63,
   "metadata": {
    "collapsed": true
   },
   "outputs": [],
   "source": [
    "for fn in train_label_names_samples:\n",
    "    img = open_image(fn)\n",
    "    subprocess.run([\"cp\", fn, \"/data2/vistas_dataset/training/labels_43_samples/\"])"
   ]
  },
  {
   "cell_type": "code",
   "execution_count": null,
   "metadata": {
    "collapsed": false
   },
   "outputs": [],
   "source": [
    "for fn in val_img_names:\n",
    "    img = open_image(fn)\n",
    "    ap = img.shape[1]/img.shape[0]\n",
    "    if (np.abs(ap-1.33))<0.1:\n",
    "        subprocess.run([\"cp\", fn, \"/data2/vistas_dataset/validation/images_43/\"])"
   ]
  },
  {
   "cell_type": "code",
   "execution_count": null,
   "metadata": {
    "collapsed": true
   },
   "outputs": [],
   "source": [
    "for fn in val_label_names:\n",
    "    img = open_image(fn)\n",
    "    ap = img.shape[1]/img.shape[0]\n",
    "    if (np.abs(ap-1.33))<0.1:\n",
    "        subprocess.run([\"cp\", fn, \"/data2/vistas_dataset/validation/labels_43/\"])"
   ]
  }
 ],
 "metadata": {
  "kernelspec": {
   "display_name": "Python 3",
   "language": "python",
   "name": "python3"
  },
  "language_info": {
   "codemirror_mode": {
    "name": "ipython",
    "version": 3
   },
   "file_extension": ".py",
   "mimetype": "text/x-python",
   "name": "python",
   "nbconvert_exporter": "python",
   "pygments_lexer": "ipython3",
   "version": "3.5.2"
  },
  "widgets": {
   "state": {},
   "version": "1.1.2"
  }
 },
 "nbformat": 4,
 "nbformat_minor": 2
}
