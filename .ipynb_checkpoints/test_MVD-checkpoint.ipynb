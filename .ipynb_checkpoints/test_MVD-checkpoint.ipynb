{
 "cells": [
  {
   "cell_type": "markdown",
   "metadata": {},
   "source": [
    "### 1: Dataset Summary & Exploration"
   ]
  },
  {
   "cell_type": "code",
   "execution_count": 16,
   "metadata": {
    "collapsed": true
   },
   "outputs": [],
   "source": [
    "import matplotlib.pyplot as plt\n",
    "import matplotlib.image as mpimg\n",
    "from PIL import Image\n",
    "import numpy as np\n",
    "import glob\n",
    "%matplotlib inline\n"
   ]
  },
  {
   "cell_type": "code",
   "execution_count": 2,
   "metadata": {
    "collapsed": true
   },
   "outputs": [],
   "source": [
    "# Setup for training images\n",
    "train_img_path = '/data2/vistas_dataset/training/images/'\n",
    "train_label_path = '/data2/vistas_dataset/training/labels/'\n",
    "\n",
    "# Setup for validation images\n",
    "val_img_path = '/data2/vistas_dataset/validation/images/'\n",
    "val_label_path = '/data2/vistas_dataset/validation/labels/'"
   ]
  },
  {
   "cell_type": "code",
   "execution_count": 3,
   "metadata": {
    "collapsed": false
   },
   "outputs": [],
   "source": [
    "train_img_names = glob.glob(train_img_path+'*.jpg')\n",
    "train_label_names = glob.glob(train_label_path+'*.png')"
   ]
  },
  {
   "cell_type": "code",
   "execution_count": 65,
   "metadata": {
    "collapsed": true
   },
   "outputs": [],
   "source": [
    "val_img_names = glob.glob(val_img_path+'*.jpg')\n",
    "val_label_names = glob.glob(val_label_path+'*.png')"
   ]
  },
  {
   "cell_type": "code",
   "execution_count": 6,
   "metadata": {
    "collapsed": false
   },
   "outputs": [
    {
     "data": {
      "text/plain": [
       "(18000, 18000)"
      ]
     },
     "execution_count": 6,
     "metadata": {},
     "output_type": "execute_result"
    }
   ],
   "source": [
    "len(train_img_names), len(train_label_names)\n"
   ]
  },
  {
   "cell_type": "code",
   "execution_count": 17,
   "metadata": {
    "collapsed": true
   },
   "outputs": [],
   "source": [
    "def open_image(fn): return np.array(Image.open(fn))\n",
    "\n",
    "#train_imgs = np.stack([open_image(fn) for fn in train_img_names])\n",
    "#train_labels = np.stack([open_image(fn) for fn in train_label_names])"
   ]
  },
  {
   "cell_type": "code",
   "execution_count": 8,
   "metadata": {
    "collapsed": true
   },
   "outputs": [],
   "source": [
    "dist_path = '/data2/vistas_dataset/training/images_43/'"
   ]
  },
  {
   "cell_type": "code",
   "execution_count": 14,
   "metadata": {
    "collapsed": false
   },
   "outputs": [
    {
     "data": {
      "text/plain": [
       "0"
      ]
     },
     "execution_count": 14,
     "metadata": {},
     "output_type": "execute_result"
    }
   ],
   "source": [
    "from subprocess import call\n",
    "call([\"ls\", \"-l\"])"
   ]
  },
  {
   "cell_type": "code",
   "execution_count": 19,
   "metadata": {
    "collapsed": false
   },
   "outputs": [],
   "source": [
    "import subprocess\n",
    "#subprocess.run([\"ls\", \"-l\"], stdout=subprocess.PIPE)"
   ]
  },
  {
   "cell_type": "code",
   "execution_count": 20,
   "metadata": {
    "collapsed": false
   },
   "outputs": [
    {
     "data": {
      "text/plain": [
       "CompletedProcess(args=['cp', '/data2/vistas_dataset/training/images/UVztnXiK7p3Pm1ez5X64Vg.jpg', '/data2/vistas_dataset/training/images_43/'], returncode=0)"
      ]
     },
     "execution_count": 20,
     "metadata": {},
     "output_type": "execute_result"
    }
   ],
   "source": [
    "subprocess.run([\"cp\", train_img_names[0], \"/data2/vistas_dataset/training/images_43/\"])"
   ]
  },
  {
   "cell_type": "code",
   "execution_count": 26,
   "metadata": {
    "collapsed": false
   },
   "outputs": [],
   "source": [
    "for fn in train_img_names:\n",
    "    img = open_image(fn)\n",
    "    ap = img.shape[1]/img.shape[0]\n",
    "    if (np.abs(ap-1.33))<0.1:\n",
    "        subprocess.run([\"cp\", fn, \"/data2/vistas_dataset/training/images_43/\"])"
   ]
  },
  {
   "cell_type": "code",
   "execution_count": 27,
   "metadata": {
    "collapsed": false
   },
   "outputs": [],
   "source": [
    "for fn in train_img_names:\n",
    "    img = open_image(fn)\n",
    "    ap = img.shape[1]/img.shape[0]\n",
    "    if (np.abs(ap-1.77))<0.1:\n",
    "        subprocess.run([\"cp\", fn, \"/data2/vistas_dataset/training/images_169/\"])"
   ]
  },
  {
   "cell_type": "code",
   "execution_count": 28,
   "metadata": {
    "collapsed": true
   },
   "outputs": [],
   "source": [
    "for fn in train_label_names:\n",
    "    img = open_image(fn)\n",
    "    ap = img.shape[1]/img.shape[0]\n",
    "    if (np.abs(ap-1.33))<0.1:\n",
    "        subprocess.run([\"cp\", fn, \"/data2/vistas_dataset/training/labels_43/\"])"
   ]
  },
  {
   "cell_type": "code",
   "execution_count": 29,
   "metadata": {
    "collapsed": true
   },
   "outputs": [],
   "source": [
    "for fn in train_label_names:\n",
    "    img = open_image(fn)\n",
    "    ap = img.shape[1]/img.shape[0]\n",
    "    if (np.abs(ap-1.77))<0.1:\n",
    "        subprocess.run([\"cp\", fn, \"/data2/vistas_dataset/training/labels_169/\"])"
   ]
  },
  {
   "cell_type": "code",
   "execution_count": 30,
   "metadata": {
    "collapsed": true
   },
   "outputs": [],
   "source": [
    "# randomly extract 3000 traing images and labels at 4:3 aspect ratio\n",
    "train_img_path = '/data2/vistas_dataset/training/images_43/'\n",
    "train_label_path = '/data2/vistas_dataset/training/labels_43/'\n",
    "train_img_names = glob.glob(train_img_path+'*.jpg')\n",
    "train_label_names = glob.glob(train_label_path+'*.png')"
   ]
  },
  {
   "cell_type": "code",
   "execution_count": 32,
   "metadata": {
    "collapsed": false
   },
   "outputs": [
    {
     "data": {
      "text/plain": [
       "(15349, 15349)"
      ]
     },
     "execution_count": 32,
     "metadata": {},
     "output_type": "execute_result"
    }
   ],
   "source": [
    "no_train_imgs = len(train_img_names)\n",
    "no_train_labels = len(train_label_names)\n",
    "no_train_imgs, no_train_labels"
   ]
  },
  {
   "cell_type": "code",
   "execution_count": 57,
   "metadata": {
    "collapsed": false
   },
   "outputs": [],
   "source": [
    "import random\n",
    "random.seed(10)\n",
    "my_randoms = random.sample(range(no_train_imgs), 3000)\n",
    "#print(my_randoms)"
   ]
  },
  {
   "cell_type": "code",
   "execution_count": 58,
   "metadata": {
    "collapsed": false
   },
   "outputs": [],
   "source": [
    "train_img_names_samples = [train_img_names[i] for i in my_randoms]"
   ]
  },
  {
   "cell_type": "code",
   "execution_count": 59,
   "metadata": {
    "collapsed": false
   },
   "outputs": [],
   "source": [
    "train_label_names_samples = [train_label_names[i] for i in my_randoms]"
   ]
  },
  {
   "cell_type": "code",
   "execution_count": 60,
   "metadata": {
    "collapsed": false
   },
   "outputs": [
    {
     "data": {
      "text/plain": [
       "['/data2/vistas_dataset/training/images_43/KfJR-fU5S9puDpxHGMUo1A.jpg',\n",
       " '/data2/vistas_dataset/training/images_43/zJDv6qIeyqzMob-yR5KBDw.jpg',\n",
       " '/data2/vistas_dataset/training/images_43/HUfUZMwzLJcGFXWmFyCpkA.jpg',\n",
       " '/data2/vistas_dataset/training/images_43/JNyu40lcpiEs2-lPPgcTXw.jpg',\n",
       " '/data2/vistas_dataset/training/images_43/19bnuT_jHRq7hSgEAlcQUA.jpg']"
      ]
     },
     "execution_count": 60,
     "metadata": {},
     "output_type": "execute_result"
    }
   ],
   "source": [
    "train_img_names_samples[:5]"
   ]
  },
  {
   "cell_type": "code",
   "execution_count": 61,
   "metadata": {
    "collapsed": false
   },
   "outputs": [
    {
     "data": {
      "text/plain": [
       "['/data2/vistas_dataset/training/labels_43/IWP747nHt3NfoV6ThBL9dg.png',\n",
       " '/data2/vistas_dataset/training/labels_43/PHjntQulc2zLYYlLlVX69g.png',\n",
       " '/data2/vistas_dataset/training/labels_43/fjdJSVKRhCaUwx7dYSUQRw.png',\n",
       " '/data2/vistas_dataset/training/labels_43/yBp0e9oLmxXXyfQBOGKo-g.png',\n",
       " '/data2/vistas_dataset/training/labels_43/CZwoyizOhr32_A240K5pWA.png']"
      ]
     },
     "execution_count": 61,
     "metadata": {},
     "output_type": "execute_result"
    }
   ],
   "source": [
    "train_label_names_samples[:5]"
   ]
  },
  {
   "cell_type": "code",
   "execution_count": 62,
   "metadata": {
    "collapsed": true
   },
   "outputs": [],
   "source": [
    "for fn in train_img_names_samples:\n",
    "    img = open_image(fn)\n",
    "    subprocess.run([\"cp\", fn, \"/data2/vistas_dataset/training/images_43_samples/\"])"
   ]
  },
  {
   "cell_type": "code",
   "execution_count": 63,
   "metadata": {
    "collapsed": true
   },
   "outputs": [],
   "source": [
    "for fn in train_label_names_samples:\n",
    "    img = open_image(fn)\n",
    "    subprocess.run([\"cp\", fn, \"/data2/vistas_dataset/training/labels_43_samples/\"])"
   ]
  },
  {
   "cell_type": "code",
   "execution_count": 66,
   "metadata": {
    "collapsed": false
   },
   "outputs": [],
   "source": [
    "for fn in val_img_names:\n",
    "    img = open_image(fn)\n",
    "    ap = img.shape[1]/img.shape[0]\n",
    "    if (np.abs(ap-1.33))<0.1:\n",
    "        subprocess.run([\"cp\", fn, \"/data2/vistas_dataset/validation/images_43/\"])"
   ]
  },
  {
   "cell_type": "code",
   "execution_count": 67,
   "metadata": {
    "collapsed": true
   },
   "outputs": [],
   "source": [
    "for fn in val_label_names:\n",
    "    img = open_image(fn)\n",
    "    ap = img.shape[1]/img.shape[0]\n",
    "    if (np.abs(ap-1.33))<0.1:\n",
    "        subprocess.run([\"cp\", fn, \"/data2/vistas_dataset/validation/labels_43/\"])"
   ]
  },
  {
   "cell_type": "code",
   "execution_count": 68,
   "metadata": {
    "collapsed": false
   },
   "outputs": [
    {
     "data": {
      "text/plain": [
       "(2000, 2000)"
      ]
     },
     "execution_count": 68,
     "metadata": {},
     "output_type": "execute_result"
    }
   ],
   "source": [
    "no_val_imgs = len(val_img_names)\n",
    "no_val_labels = len(val_label_names)\n",
    "no_val_imgs, no_val_labels"
   ]
  },
  {
   "cell_type": "code",
   "execution_count": 69,
   "metadata": {
    "collapsed": true
   },
   "outputs": [],
   "source": [
    "random.seed(10)\n",
    "my_randoms = random.sample(range(no_val_imgs), 500)"
   ]
  },
  {
   "cell_type": "code",
   "execution_count": 70,
   "metadata": {
    "collapsed": true
   },
   "outputs": [],
   "source": [
    "val_img_names_samples = [val_img_names[i] for i in my_randoms]\n",
    "val_label_names_samples = [val_label_names[i] for i in my_randoms]"
   ]
  },
  {
   "cell_type": "code",
   "execution_count": 71,
   "metadata": {
    "collapsed": true
   },
   "outputs": [],
   "source": [
    "for fn in val_img_names_samples:\n",
    "    img = open_image(fn)\n",
    "    subprocess.run([\"cp\", fn, \"/data2/vistas_dataset/validation/images_43_samples/\"])\n",
    "    \n",
    "for fn in val_label_names_samples:\n",
    "    img = open_image(fn)\n",
    "    subprocess.run([\"cp\", fn, \"/data2/vistas_dataset/validation/labels_43_samples/\"])"
   ]
  },
  {
   "cell_type": "code",
   "execution_count": 72,
   "metadata": {
    "collapsed": true
   },
   "outputs": [],
   "source": [
    "for fn in val_img_names:\n",
    "    img = open_image(fn)\n",
    "    ap = img.shape[1]/img.shape[0]\n",
    "    if (np.abs(ap-1.77))<0.1:\n",
    "        subprocess.run([\"cp\", fn, \"/data2/vistas_dataset/validation/images_169/\"])"
   ]
  },
  {
   "cell_type": "code",
   "execution_count": 73,
   "metadata": {
    "collapsed": true
   },
   "outputs": [],
   "source": [
    "for fn in val_label_names:\n",
    "    img = open_image(fn)\n",
    "    ap = img.shape[1]/img.shape[0]\n",
    "    if (np.abs(ap-1.77))<0.1:\n",
    "        subprocess.run([\"cp\", fn, \"/data2/vistas_dataset/validation/labels_169/\"])"
   ]
  },
  {
   "cell_type": "markdown",
   "metadata": {
    "collapsed": true
   },
   "source": [
    "### Read label id and color code"
   ]
  },
  {
   "cell_type": "code",
   "execution_count": 1,
   "metadata": {
    "collapsed": true
   },
   "outputs": [],
   "source": [
    "import json"
   ]
  },
  {
   "cell_type": "code",
   "execution_count": null,
   "metadata": {
    "collapsed": true
   },
   "outputs": [],
   "source": [
    "def apply_color_map(image_array, labels):\n",
    "    color_array = np.zeros((image_array.shape[0], image_array.shape[1], 3), dtype=np.uint8)\n",
    "\n",
    "    for label_id, label in enumerate(labels):\n",
    "        # set all pixels with the current label to the color of the current label\n",
    "        color_array[image_array == label_id] = label[\"color\"]\n",
    "\n",
    "    return color_array"
   ]
  },
  {
   "cell_type": "code",
   "execution_count": 2,
   "metadata": {
    "collapsed": true
   },
   "outputs": [],
   "source": [
    "# read in config file\n",
    "with open('config.json') as config_file:\n",
    "    config = json.load(config_file)\n",
    "# in this example we are only interested in the labels\n",
    "labels = config['labels']\n"
   ]
  },
  {
   "cell_type": "code",
   "execution_count": 14,
   "metadata": {
    "collapsed": false
   },
   "outputs": [
    {
     "name": "stdout",
     "output_type": "stream",
     "text": [
      "There are 66 labels in the config file\n",
      "                          Bird ( 0): animal--bird                                       has instances: True\n",
      "                 Ground Animal ( 1): animal--ground-animal                              has instances: True\n",
      "                          Curb ( 2): construction--barrier--curb                        has instances: False\n",
      "                         Fence ( 3): construction--barrier--fence                       has instances: False\n",
      "                    Guard Rail ( 4): construction--barrier--guard-rail                  has instances: False\n",
      "                       Barrier ( 5): construction--barrier--other-barrier               has instances: False\n",
      "                          Wall ( 6): construction--barrier--wall                        has instances: False\n",
      "                     Bike Lane ( 7): construction--flat--bike-lane                      has instances: False\n",
      "             Crosswalk - Plain ( 8): construction--flat--crosswalk-plain                has instances: True\n",
      "                      Curb Cut ( 9): construction--flat--curb-cut                       has instances: False\n",
      "                       Parking (10): construction--flat--parking                        has instances: False\n",
      "               Pedestrian Area (11): construction--flat--pedestrian-area                has instances: False\n",
      "                    Rail Track (12): construction--flat--rail-track                     has instances: False\n",
      "                          Road (13): construction--flat--road                           has instances: False\n",
      "                  Service Lane (14): construction--flat--service-lane                   has instances: False\n",
      "                      Sidewalk (15): construction--flat--sidewalk                       has instances: False\n",
      "                        Bridge (16): construction--structure--bridge                    has instances: False\n",
      "                      Building (17): construction--structure--building                  has instances: False\n",
      "                        Tunnel (18): construction--structure--tunnel                    has instances: False\n",
      "                        Person (19): human--person                                      has instances: True\n",
      "                     Bicyclist (20): human--rider--bicyclist                            has instances: True\n",
      "                  Motorcyclist (21): human--rider--motorcyclist                         has instances: True\n",
      "                   Other Rider (22): human--rider--other-rider                          has instances: True\n",
      "      Lane Marking - Crosswalk (23): marking--crosswalk-zebra                           has instances: True\n",
      "        Lane Marking - General (24): marking--general                                   has instances: False\n",
      "                      Mountain (25): nature--mountain                                   has instances: False\n",
      "                          Sand (26): nature--sand                                       has instances: False\n",
      "                           Sky (27): nature--sky                                        has instances: False\n",
      "                          Snow (28): nature--snow                                       has instances: False\n",
      "                       Terrain (29): nature--terrain                                    has instances: False\n",
      "                    Vegetation (30): nature--vegetation                                 has instances: False\n",
      "                         Water (31): nature--water                                      has instances: False\n",
      "                        Banner (32): object--banner                                     has instances: True\n",
      "                         Bench (33): object--bench                                      has instances: True\n",
      "                     Bike Rack (34): object--bike-rack                                  has instances: True\n",
      "                     Billboard (35): object--billboard                                  has instances: True\n",
      "                   Catch Basin (36): object--catch-basin                                has instances: True\n",
      "                   CCTV Camera (37): object--cctv-camera                                has instances: True\n",
      "                  Fire Hydrant (38): object--fire-hydrant                               has instances: True\n",
      "                  Junction Box (39): object--junction-box                               has instances: True\n",
      "                       Mailbox (40): object--mailbox                                    has instances: True\n",
      "                       Manhole (41): object--manhole                                    has instances: True\n",
      "                   Phone Booth (42): object--phone-booth                                has instances: True\n",
      "                       Pothole (43): object--pothole                                    has instances: False\n",
      "                  Street Light (44): object--street-light                               has instances: True\n",
      "                          Pole (45): object--support--pole                              has instances: True\n",
      "            Traffic Sign Frame (46): object--support--traffic-sign-frame                has instances: True\n",
      "                  Utility Pole (47): object--support--utility-pole                      has instances: True\n",
      "                 Traffic Light (48): object--traffic-light                              has instances: True\n",
      "           Traffic Sign (Back) (49): object--traffic-sign--back                         has instances: True\n",
      "          Traffic Sign (Front) (50): object--traffic-sign--front                        has instances: True\n",
      "                     Trash Can (51): object--trash-can                                  has instances: True\n",
      "                       Bicycle (52): object--vehicle--bicycle                           has instances: True\n",
      "                          Boat (53): object--vehicle--boat                              has instances: True\n",
      "                           Bus (54): object--vehicle--bus                               has instances: True\n",
      "                           Car (55): object--vehicle--car                               has instances: True\n",
      "                       Caravan (56): object--vehicle--caravan                           has instances: True\n",
      "                    Motorcycle (57): object--vehicle--motorcycle                        has instances: True\n",
      "                      On Rails (58): object--vehicle--on-rails                          has instances: False\n",
      "                 Other Vehicle (59): object--vehicle--other-vehicle                     has instances: True\n",
      "                       Trailer (60): object--vehicle--trailer                           has instances: True\n",
      "                         Truck (61): object--vehicle--truck                             has instances: True\n",
      "                  Wheeled Slow (62): object--vehicle--wheeled-slow                      has instances: True\n",
      "                     Car Mount (63): void--car-mount                                    has instances: False\n",
      "                   Ego Vehicle (64): void--ego-vehicle                                  has instances: False\n",
      "                     Unlabeled (65): void--unlabeled                                    has instances: False\n"
     ]
    }
   ],
   "source": [
    "# obtain label id\n",
    "# print labels\n",
    "print(\"There are {} labels in the config file\".format(len(labels)))\n",
    "for label_id, label in enumerate(labels):\n",
    "    print(\"{:>30} ({:2d}): {:<50} has instances: {}\".format(label[\"readable\"], label_id, label[\"name\"], label[\"instances\"]))"
   ]
  },
  {
   "cell_type": "code",
   "execution_count": null,
   "metadata": {
    "collapsed": true
   },
   "outputs": [],
   "source": [
    "# cityscapes labels id \n"
   ]
  },
  {
   "cell_type": "code",
   "execution_count": 11,
   "metadata": {
    "collapsed": false
   },
   "outputs": [
    {
     "data": {
      "text/plain": [
       "{'color': [165, 42, 42],\n",
       " 'evaluate': True,\n",
       " 'instances': True,\n",
       " 'name': 'animal--bird',\n",
       " 'readable': 'Bird'}"
      ]
     },
     "execution_count": 11,
     "metadata": {},
     "output_type": "execute_result"
    }
   ],
   "source": [
    "labels[0]"
   ]
  },
  {
   "cell_type": "code",
   "execution_count": 8,
   "metadata": {
    "collapsed": false
   },
   "outputs": [
    {
     "data": {
      "text/plain": [
       "dict_keys(['color', 'instances', 'readable', 'evaluate', 'name'])"
      ]
     },
     "execution_count": 8,
     "metadata": {},
     "output_type": "execute_result"
    }
   ],
   "source": [
    "labels[0].keys()"
   ]
  },
  {
   "cell_type": "code",
   "execution_count": 5,
   "metadata": {
    "collapsed": false
   },
   "outputs": [
    {
     "data": {
      "text/plain": [
       "[{'color': [165, 42, 42],\n",
       "  'evaluate': True,\n",
       "  'instances': True,\n",
       "  'name': 'animal--bird',\n",
       "  'readable': 'Bird'},\n",
       " {'color': [0, 192, 0],\n",
       "  'evaluate': True,\n",
       "  'instances': True,\n",
       "  'name': 'animal--ground-animal',\n",
       "  'readable': 'Ground Animal'},\n",
       " {'color': [196, 196, 196],\n",
       "  'evaluate': True,\n",
       "  'instances': False,\n",
       "  'name': 'construction--barrier--curb',\n",
       "  'readable': 'Curb'},\n",
       " {'color': [190, 153, 153],\n",
       "  'evaluate': True,\n",
       "  'instances': False,\n",
       "  'name': 'construction--barrier--fence',\n",
       "  'readable': 'Fence'},\n",
       " {'color': [180, 165, 180],\n",
       "  'evaluate': True,\n",
       "  'instances': False,\n",
       "  'name': 'construction--barrier--guard-rail',\n",
       "  'readable': 'Guard Rail'},\n",
       " {'color': [102, 102, 156],\n",
       "  'evaluate': True,\n",
       "  'instances': False,\n",
       "  'name': 'construction--barrier--other-barrier',\n",
       "  'readable': 'Barrier'},\n",
       " {'color': [102, 102, 156],\n",
       "  'evaluate': True,\n",
       "  'instances': False,\n",
       "  'name': 'construction--barrier--wall',\n",
       "  'readable': 'Wall'},\n",
       " {'color': [128, 64, 255],\n",
       "  'evaluate': True,\n",
       "  'instances': False,\n",
       "  'name': 'construction--flat--bike-lane',\n",
       "  'readable': 'Bike Lane'},\n",
       " {'color': [140, 140, 200],\n",
       "  'evaluate': True,\n",
       "  'instances': True,\n",
       "  'name': 'construction--flat--crosswalk-plain',\n",
       "  'readable': 'Crosswalk - Plain'},\n",
       " {'color': [170, 170, 170],\n",
       "  'evaluate': True,\n",
       "  'instances': False,\n",
       "  'name': 'construction--flat--curb-cut',\n",
       "  'readable': 'Curb Cut'},\n",
       " {'color': [250, 170, 160],\n",
       "  'evaluate': True,\n",
       "  'instances': False,\n",
       "  'name': 'construction--flat--parking',\n",
       "  'readable': 'Parking'},\n",
       " {'color': [96, 96, 96],\n",
       "  'evaluate': True,\n",
       "  'instances': False,\n",
       "  'name': 'construction--flat--pedestrian-area',\n",
       "  'readable': 'Pedestrian Area'},\n",
       " {'color': [230, 150, 140],\n",
       "  'evaluate': True,\n",
       "  'instances': False,\n",
       "  'name': 'construction--flat--rail-track',\n",
       "  'readable': 'Rail Track'},\n",
       " {'color': [128, 64, 128],\n",
       "  'evaluate': True,\n",
       "  'instances': False,\n",
       "  'name': 'construction--flat--road',\n",
       "  'readable': 'Road'},\n",
       " {'color': [110, 110, 110],\n",
       "  'evaluate': True,\n",
       "  'instances': False,\n",
       "  'name': 'construction--flat--service-lane',\n",
       "  'readable': 'Service Lane'},\n",
       " {'color': [244, 35, 232],\n",
       "  'evaluate': True,\n",
       "  'instances': False,\n",
       "  'name': 'construction--flat--sidewalk',\n",
       "  'readable': 'Sidewalk'},\n",
       " {'color': [150, 100, 100],\n",
       "  'evaluate': True,\n",
       "  'instances': False,\n",
       "  'name': 'construction--structure--bridge',\n",
       "  'readable': 'Bridge'},\n",
       " {'color': [70, 70, 70],\n",
       "  'evaluate': True,\n",
       "  'instances': False,\n",
       "  'name': 'construction--structure--building',\n",
       "  'readable': 'Building'},\n",
       " {'color': [150, 120, 90],\n",
       "  'evaluate': True,\n",
       "  'instances': False,\n",
       "  'name': 'construction--structure--tunnel',\n",
       "  'readable': 'Tunnel'},\n",
       " {'color': [220, 20, 60],\n",
       "  'evaluate': True,\n",
       "  'instances': True,\n",
       "  'name': 'human--person',\n",
       "  'readable': 'Person'},\n",
       " {'color': [255, 0, 0],\n",
       "  'evaluate': True,\n",
       "  'instances': True,\n",
       "  'name': 'human--rider--bicyclist',\n",
       "  'readable': 'Bicyclist'},\n",
       " {'color': [255, 0, 0],\n",
       "  'evaluate': True,\n",
       "  'instances': True,\n",
       "  'name': 'human--rider--motorcyclist',\n",
       "  'readable': 'Motorcyclist'},\n",
       " {'color': [255, 0, 0],\n",
       "  'evaluate': True,\n",
       "  'instances': True,\n",
       "  'name': 'human--rider--other-rider',\n",
       "  'readable': 'Other Rider'},\n",
       " {'color': [200, 128, 128],\n",
       "  'evaluate': True,\n",
       "  'instances': True,\n",
       "  'name': 'marking--crosswalk-zebra',\n",
       "  'readable': 'Lane Marking - Crosswalk'},\n",
       " {'color': [255, 255, 255],\n",
       "  'evaluate': True,\n",
       "  'instances': False,\n",
       "  'name': 'marking--general',\n",
       "  'readable': 'Lane Marking - General'},\n",
       " {'color': [64, 170, 64],\n",
       "  'evaluate': True,\n",
       "  'instances': False,\n",
       "  'name': 'nature--mountain',\n",
       "  'readable': 'Mountain'},\n",
       " {'color': [128, 64, 64],\n",
       "  'evaluate': True,\n",
       "  'instances': False,\n",
       "  'name': 'nature--sand',\n",
       "  'readable': 'Sand'},\n",
       " {'color': [70, 130, 180],\n",
       "  'evaluate': True,\n",
       "  'instances': False,\n",
       "  'name': 'nature--sky',\n",
       "  'readable': 'Sky'},\n",
       " {'color': [255, 255, 255],\n",
       "  'evaluate': True,\n",
       "  'instances': False,\n",
       "  'name': 'nature--snow',\n",
       "  'readable': 'Snow'},\n",
       " {'color': [152, 251, 152],\n",
       "  'evaluate': True,\n",
       "  'instances': False,\n",
       "  'name': 'nature--terrain',\n",
       "  'readable': 'Terrain'},\n",
       " {'color': [107, 142, 35],\n",
       "  'evaluate': True,\n",
       "  'instances': False,\n",
       "  'name': 'nature--vegetation',\n",
       "  'readable': 'Vegetation'},\n",
       " {'color': [0, 170, 30],\n",
       "  'evaluate': True,\n",
       "  'instances': False,\n",
       "  'name': 'nature--water',\n",
       "  'readable': 'Water'},\n",
       " {'color': [255, 255, 128],\n",
       "  'evaluate': True,\n",
       "  'instances': True,\n",
       "  'name': 'object--banner',\n",
       "  'readable': 'Banner'},\n",
       " {'color': [250, 0, 30],\n",
       "  'evaluate': True,\n",
       "  'instances': True,\n",
       "  'name': 'object--bench',\n",
       "  'readable': 'Bench'},\n",
       " {'color': [0, 0, 0],\n",
       "  'evaluate': True,\n",
       "  'instances': True,\n",
       "  'name': 'object--bike-rack',\n",
       "  'readable': 'Bike Rack'},\n",
       " {'color': [220, 220, 220],\n",
       "  'evaluate': True,\n",
       "  'instances': True,\n",
       "  'name': 'object--billboard',\n",
       "  'readable': 'Billboard'},\n",
       " {'color': [170, 170, 170],\n",
       "  'evaluate': True,\n",
       "  'instances': True,\n",
       "  'name': 'object--catch-basin',\n",
       "  'readable': 'Catch Basin'},\n",
       " {'color': [222, 40, 40],\n",
       "  'evaluate': True,\n",
       "  'instances': True,\n",
       "  'name': 'object--cctv-camera',\n",
       "  'readable': 'CCTV Camera'},\n",
       " {'color': [100, 170, 30],\n",
       "  'evaluate': True,\n",
       "  'instances': True,\n",
       "  'name': 'object--fire-hydrant',\n",
       "  'readable': 'Fire Hydrant'},\n",
       " {'color': [40, 40, 40],\n",
       "  'evaluate': True,\n",
       "  'instances': True,\n",
       "  'name': 'object--junction-box',\n",
       "  'readable': 'Junction Box'},\n",
       " {'color': [33, 33, 33],\n",
       "  'evaluate': True,\n",
       "  'instances': True,\n",
       "  'name': 'object--mailbox',\n",
       "  'readable': 'Mailbox'},\n",
       " {'color': [170, 170, 170],\n",
       "  'evaluate': True,\n",
       "  'instances': True,\n",
       "  'name': 'object--manhole',\n",
       "  'readable': 'Manhole'},\n",
       " {'color': [0, 0, 142],\n",
       "  'evaluate': True,\n",
       "  'instances': True,\n",
       "  'name': 'object--phone-booth',\n",
       "  'readable': 'Phone Booth'},\n",
       " {'color': [170, 170, 170],\n",
       "  'evaluate': True,\n",
       "  'instances': False,\n",
       "  'name': 'object--pothole',\n",
       "  'readable': 'Pothole'},\n",
       " {'color': [210, 170, 100],\n",
       "  'evaluate': True,\n",
       "  'instances': True,\n",
       "  'name': 'object--street-light',\n",
       "  'readable': 'Street Light'},\n",
       " {'color': [153, 153, 153],\n",
       "  'evaluate': True,\n",
       "  'instances': True,\n",
       "  'name': 'object--support--pole',\n",
       "  'readable': 'Pole'},\n",
       " {'color': [128, 128, 128],\n",
       "  'evaluate': True,\n",
       "  'instances': True,\n",
       "  'name': 'object--support--traffic-sign-frame',\n",
       "  'readable': 'Traffic Sign Frame'},\n",
       " {'color': [0, 0, 142],\n",
       "  'evaluate': True,\n",
       "  'instances': True,\n",
       "  'name': 'object--support--utility-pole',\n",
       "  'readable': 'Utility Pole'},\n",
       " {'color': [250, 170, 30],\n",
       "  'evaluate': True,\n",
       "  'instances': True,\n",
       "  'name': 'object--traffic-light',\n",
       "  'readable': 'Traffic Light'},\n",
       " {'color': [192, 192, 192],\n",
       "  'evaluate': True,\n",
       "  'instances': True,\n",
       "  'name': 'object--traffic-sign--back',\n",
       "  'readable': 'Traffic Sign (Back)'},\n",
       " {'color': [220, 220, 0],\n",
       "  'evaluate': True,\n",
       "  'instances': True,\n",
       "  'name': 'object--traffic-sign--front',\n",
       "  'readable': 'Traffic Sign (Front)'},\n",
       " {'color': [180, 165, 180],\n",
       "  'evaluate': True,\n",
       "  'instances': True,\n",
       "  'name': 'object--trash-can',\n",
       "  'readable': 'Trash Can'},\n",
       " {'color': [119, 11, 32],\n",
       "  'evaluate': True,\n",
       "  'instances': True,\n",
       "  'name': 'object--vehicle--bicycle',\n",
       "  'readable': 'Bicycle'},\n",
       " {'color': [0, 0, 142],\n",
       "  'evaluate': True,\n",
       "  'instances': True,\n",
       "  'name': 'object--vehicle--boat',\n",
       "  'readable': 'Boat'},\n",
       " {'color': [0, 60, 100],\n",
       "  'evaluate': True,\n",
       "  'instances': True,\n",
       "  'name': 'object--vehicle--bus',\n",
       "  'readable': 'Bus'},\n",
       " {'color': [0, 0, 142],\n",
       "  'evaluate': True,\n",
       "  'instances': True,\n",
       "  'name': 'object--vehicle--car',\n",
       "  'readable': 'Car'},\n",
       " {'color': [0, 0, 90],\n",
       "  'evaluate': True,\n",
       "  'instances': True,\n",
       "  'name': 'object--vehicle--caravan',\n",
       "  'readable': 'Caravan'},\n",
       " {'color': [0, 0, 230],\n",
       "  'evaluate': True,\n",
       "  'instances': True,\n",
       "  'name': 'object--vehicle--motorcycle',\n",
       "  'readable': 'Motorcycle'},\n",
       " {'color': [0, 80, 100],\n",
       "  'evaluate': True,\n",
       "  'instances': False,\n",
       "  'name': 'object--vehicle--on-rails',\n",
       "  'readable': 'On Rails'},\n",
       " {'color': [128, 64, 64],\n",
       "  'evaluate': True,\n",
       "  'instances': True,\n",
       "  'name': 'object--vehicle--other-vehicle',\n",
       "  'readable': 'Other Vehicle'},\n",
       " {'color': [0, 0, 110],\n",
       "  'evaluate': True,\n",
       "  'instances': True,\n",
       "  'name': 'object--vehicle--trailer',\n",
       "  'readable': 'Trailer'},\n",
       " {'color': [0, 0, 70],\n",
       "  'evaluate': True,\n",
       "  'instances': True,\n",
       "  'name': 'object--vehicle--truck',\n",
       "  'readable': 'Truck'},\n",
       " {'color': [0, 0, 192],\n",
       "  'evaluate': True,\n",
       "  'instances': True,\n",
       "  'name': 'object--vehicle--wheeled-slow',\n",
       "  'readable': 'Wheeled Slow'},\n",
       " {'color': [32, 32, 32],\n",
       "  'evaluate': True,\n",
       "  'instances': False,\n",
       "  'name': 'void--car-mount',\n",
       "  'readable': 'Car Mount'},\n",
       " {'color': [0, 0, 0],\n",
       "  'evaluate': True,\n",
       "  'instances': False,\n",
       "  'name': 'void--ego-vehicle',\n",
       "  'readable': 'Ego Vehicle'},\n",
       " {'color': [0, 0, 0],\n",
       "  'evaluate': False,\n",
       "  'instances': False,\n",
       "  'name': 'void--unlabeled',\n",
       "  'readable': 'Unlabeled'}]"
      ]
     },
     "execution_count": 5,
     "metadata": {},
     "output_type": "execute_result"
    }
   ],
   "source": [
    "labels"
   ]
  },
  {
   "cell_type": "code",
   "execution_count": 12,
   "metadata": {
    "collapsed": false
   },
   "outputs": [
    {
     "data": {
      "text/plain": [
       "list"
      ]
     },
     "execution_count": 12,
     "metadata": {},
     "output_type": "execute_result"
    }
   ],
   "source": [
    "type(labels)"
   ]
  },
  {
   "cell_type": "code",
   "execution_count": 18,
   "metadata": {
    "collapsed": false
   },
   "outputs": [],
   "source": [
    "# Setup for training images\n",
    "test_img_path = '/data2/vistas_dataset/testing/images/'\n",
    "test_img_names = glob.glob(test_img_path+'*.jpg')"
   ]
  },
  {
   "cell_type": "code",
   "execution_count": null,
   "metadata": {
    "collapsed": false
   },
   "outputs": [
    {
     "name": "stdout",
     "output_type": "stream",
     "text": [
      "height:1536, count:0\n",
      "height:2448, count:1\n",
      "height:2448, count:2\n",
      "height:1836, count:3\n",
      "height:2160, count:4\n",
      "height:1080, count:5\n",
      "height:2448, count:6\n",
      "height:3024, count:7\n",
      "height:2988, count:8\n",
      "height:1944, count:9\n",
      "height:2448, count:10\n",
      "height:2592, count:11\n",
      "height:2448, count:12\n",
      "height:3000, count:13\n",
      "height:1920, count:14\n",
      "height:2448, count:15\n",
      "height:2592, count:16\n",
      "height:2592, count:17\n",
      "height:3096, count:18\n",
      "height:3024, count:19\n",
      "height:2448, count:20\n",
      "height:3120, count:21\n",
      "height:2592, count:22\n",
      "height:2988, count:23\n",
      "height:2448, count:24\n",
      "height:2448, count:25\n",
      "height:2988, count:26\n",
      "height:2448, count:27\n",
      "height:1536, count:28\n",
      "height:3096, count:29\n",
      "height:3072, count:30\n",
      "height:2448, count:31\n",
      "height:2304, count:32\n",
      "height:2988, count:33\n",
      "height:3456, count:34\n",
      "height:1944, count:35\n",
      "height:2160, count:36\n",
      "height:2448, count:37\n",
      "height:2448, count:38\n",
      "height:2448, count:39\n",
      "height:1520, count:40\n",
      "height:2448, count:41\n",
      "height:1080, count:42\n",
      "height:3024, count:43\n",
      "height:3120, count:44\n",
      "height:2160, count:45\n",
      "height:2448, count:46\n",
      "height:2424, count:47\n",
      "height:1080, count:48\n",
      "height:1944, count:49\n",
      "height:1080, count:50\n",
      "height:2448, count:51\n",
      "height:3024, count:52\n",
      "height:1920, count:53\n",
      "height:3120, count:54\n",
      "height:2602, count:55\n",
      "height:3120, count:56\n",
      "height:2988, count:57\n",
      "height:3096, count:58\n",
      "height:1920, count:59\n",
      "height:2988, count:60\n",
      "height:2448, count:61\n",
      "height:1836, count:62\n",
      "height:3456, count:63\n",
      "height:3024, count:64\n",
      "height:3024, count:65\n",
      "height:1920, count:66\n",
      "height:2988, count:67\n",
      "height:3000, count:68\n",
      "height:1836, count:69\n",
      "height:2160, count:70\n",
      "height:1920, count:71\n",
      "height:2316, count:72\n",
      "height:3456, count:73\n",
      "height:2988, count:74\n",
      "height:2160, count:75\n",
      "height:2988, count:76\n",
      "height:2988, count:77\n",
      "height:2448, count:78\n",
      "height:2988, count:79\n",
      "height:2760, count:80\n",
      "height:1920, count:81\n",
      "height:2988, count:82\n",
      "height:3000, count:83\n",
      "height:1536, count:84\n",
      "height:1968, count:85\n",
      "height:3096, count:86\n",
      "height:3000, count:87\n",
      "height:2592, count:88\n",
      "height:1836, count:89\n",
      "height:1536, count:90\n",
      "height:2448, count:91\n",
      "height:1440, count:92\n",
      "height:3096, count:93\n",
      "height:2448, count:94\n",
      "height:2160, count:95\n",
      "height:2448, count:96\n",
      "height:2448, count:97\n",
      "height:1080, count:98\n",
      "height:1836, count:99\n",
      "height:1920, count:100\n",
      "height:2448, count:101\n",
      "height:3024, count:102\n",
      "height:2448, count:103\n",
      "height:3456, count:104\n",
      "height:2448, count:105\n",
      "height:2988, count:106\n",
      "height:2448, count:107\n",
      "height:2448, count:108\n",
      "height:1536, count:109\n",
      "height:3096, count:110\n",
      "height:2448, count:111\n",
      "height:3000, count:112\n",
      "height:2448, count:113\n",
      "height:2448, count:114\n",
      "height:2448, count:115\n",
      "height:3024, count:116\n",
      "height:3096, count:117\n",
      "height:2448, count:118\n",
      "height:2160, count:119\n",
      "height:2448, count:120\n",
      "height:3000, count:121\n",
      "height:3456, count:122\n",
      "height:2160, count:123\n"
     ]
    }
   ],
   "source": [
    "count = 0\n",
    "for fn in test_img_names:\n",
    "    img = open_image(fn)\n",
    "    img_height = img.shape[0]\n",
    "    print('height:{}, count:{}'.format(img_height, count))\n",
    "    if img_height <= 1900:\n",
    "        subprocess.run([\"cp\", fn, \"/data2/vistas_dataset/testing/images_h1900/\"])\n",
    "    else:\n",
    "        subprocess.run([\"cp\", fn, \"/data2/vistas_dataset/testing/images_hover/\"])\n",
    "    count+=1"
   ]
  },
  {
   "cell_type": "code",
   "execution_count": null,
   "metadata": {
    "collapsed": true
   },
   "outputs": [],
   "source": []
  }
 ],
 "metadata": {
  "kernelspec": {
   "display_name": "Python 3",
   "language": "python",
   "name": "python3"
  },
  "language_info": {
   "codemirror_mode": {
    "name": "ipython",
    "version": 3
   },
   "file_extension": ".py",
   "mimetype": "text/x-python",
   "name": "python",
   "nbconvert_exporter": "python",
   "pygments_lexer": "ipython3",
   "version": "3.5.2"
  },
  "widgets": {
   "state": {},
   "version": "1.1.2"
  }
 },
 "nbformat": 4,
 "nbformat_minor": 2
}
